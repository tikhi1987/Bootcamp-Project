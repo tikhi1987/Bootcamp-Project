{
 "cells": [
  {
   "cell_type": "code",
   "execution_count": 1,
   "metadata": {},
   "outputs": [],
   "source": [
    "import pandas as pd\n",
    "import numpy as np\n",
    "\n",
    "import matplotlib.pyplot as plt\n",
    "import seaborn as sns\n",
    "\n",
    "sns.set_style(\"white\")"
   ]
  },
  {
   "cell_type": "code",
   "execution_count": 183,
   "metadata": {},
   "outputs": [],
   "source": [
    "mergedTrialData_df = pd.read_csv(\"mergedTrialData.csv\")\n",
    "demographics_df = pd.read_csv(\"demographic.csv\")"
   ]
  },
  {
   "cell_type": "code",
   "execution_count": 184,
   "metadata": {},
   "outputs": [
    {
     "data": {
      "text/html": [
       "<div>\n",
       "<style scoped>\n",
       "    .dataframe tbody tr th:only-of-type {\n",
       "        vertical-align: middle;\n",
       "    }\n",
       "\n",
       "    .dataframe tbody tr th {\n",
       "        vertical-align: top;\n",
       "    }\n",
       "\n",
       "    .dataframe thead th {\n",
       "        text-align: right;\n",
       "    }\n",
       "</style>\n",
       "<table border=\"1\" class=\"dataframe\">\n",
       "  <thead>\n",
       "    <tr style=\"text-align: right;\">\n",
       "      <th></th>\n",
       "      <th>subject</th>\n",
       "      <th>trial</th>\n",
       "      <th>condition</th>\n",
       "      <th>ITI</th>\n",
       "      <th>rejected</th>\n",
       "      <th>Fz_N100</th>\n",
       "      <th>FCz_N100</th>\n",
       "      <th>Cz_N100</th>\n",
       "      <th>FC3_N100</th>\n",
       "      <th>FC4_N100</th>\n",
       "      <th>...</th>\n",
       "      <th>FC3_B1</th>\n",
       "      <th>FC4_B1</th>\n",
       "      <th>C3_B1</th>\n",
       "      <th>C4_B1</th>\n",
       "      <th>CP3_B1</th>\n",
       "      <th>CP4_B1</th>\n",
       "      <th>group</th>\n",
       "      <th>gender</th>\n",
       "      <th>age</th>\n",
       "      <th>education</th>\n",
       "    </tr>\n",
       "  </thead>\n",
       "  <tbody>\n",
       "    <tr>\n",
       "      <th>0</th>\n",
       "      <td>1</td>\n",
       "      <td>1</td>\n",
       "      <td>1</td>\n",
       "      <td>NaN</td>\n",
       "      <td>0</td>\n",
       "      <td>-9.761338</td>\n",
       "      <td>-11.545219</td>\n",
       "      <td>-16.775214</td>\n",
       "      <td>-3.576595</td>\n",
       "      <td>-11.745167</td>\n",
       "      <td>...</td>\n",
       "      <td>-13.285282</td>\n",
       "      <td>-23.223037</td>\n",
       "      <td>-23.622596</td>\n",
       "      <td>-19.071931</td>\n",
       "      <td>-19.529142</td>\n",
       "      <td>-26.677147</td>\n",
       "      <td>0</td>\n",
       "      <td>M</td>\n",
       "      <td>44</td>\n",
       "      <td>16.0</td>\n",
       "    </tr>\n",
       "    <tr>\n",
       "      <th>1</th>\n",
       "      <td>1</td>\n",
       "      <td>2</td>\n",
       "      <td>1</td>\n",
       "      <td>2025.3906</td>\n",
       "      <td>0</td>\n",
       "      <td>8.717519</td>\n",
       "      <td>11.462619</td>\n",
       "      <td>7.979110</td>\n",
       "      <td>9.429738</td>\n",
       "      <td>6.912862</td>\n",
       "      <td>...</td>\n",
       "      <td>13.442292</td>\n",
       "      <td>16.981404</td>\n",
       "      <td>11.953868</td>\n",
       "      <td>10.168470</td>\n",
       "      <td>5.831319</td>\n",
       "      <td>6.503993</td>\n",
       "      <td>0</td>\n",
       "      <td>M</td>\n",
       "      <td>44</td>\n",
       "      <td>16.0</td>\n",
       "    </tr>\n",
       "    <tr>\n",
       "      <th>2</th>\n",
       "      <td>1</td>\n",
       "      <td>3</td>\n",
       "      <td>1</td>\n",
       "      <td>2303.7109</td>\n",
       "      <td>0</td>\n",
       "      <td>-4.027286</td>\n",
       "      <td>-3.992038</td>\n",
       "      <td>-1.104119</td>\n",
       "      <td>-3.319471</td>\n",
       "      <td>0.321314</td>\n",
       "      <td>...</td>\n",
       "      <td>1.199502</td>\n",
       "      <td>0.929950</td>\n",
       "      <td>1.343815</td>\n",
       "      <td>3.131847</td>\n",
       "      <td>3.691148</td>\n",
       "      <td>0.338882</td>\n",
       "      <td>0</td>\n",
       "      <td>M</td>\n",
       "      <td>44</td>\n",
       "      <td>16.0</td>\n",
       "    </tr>\n",
       "    <tr>\n",
       "      <th>3</th>\n",
       "      <td>1</td>\n",
       "      <td>4</td>\n",
       "      <td>1</td>\n",
       "      <td>2275.3906</td>\n",
       "      <td>0</td>\n",
       "      <td>0.394095</td>\n",
       "      <td>-0.663186</td>\n",
       "      <td>-1.372871</td>\n",
       "      <td>3.974643</td>\n",
       "      <td>-1.613667</td>\n",
       "      <td>...</td>\n",
       "      <td>5.336565</td>\n",
       "      <td>-0.448384</td>\n",
       "      <td>7.983687</td>\n",
       "      <td>6.579145</td>\n",
       "      <td>8.474662</td>\n",
       "      <td>9.381523</td>\n",
       "      <td>0</td>\n",
       "      <td>M</td>\n",
       "      <td>44</td>\n",
       "      <td>16.0</td>\n",
       "    </tr>\n",
       "    <tr>\n",
       "      <th>4</th>\n",
       "      <td>1</td>\n",
       "      <td>5</td>\n",
       "      <td>1</td>\n",
       "      <td>2464.8438</td>\n",
       "      <td>0</td>\n",
       "      <td>-9.368090</td>\n",
       "      <td>-12.029829</td>\n",
       "      <td>-10.280100</td>\n",
       "      <td>-7.846471</td>\n",
       "      <td>-8.170986</td>\n",
       "      <td>...</td>\n",
       "      <td>0.212776</td>\n",
       "      <td>-5.815893</td>\n",
       "      <td>2.517058</td>\n",
       "      <td>-1.101036</td>\n",
       "      <td>-4.325141</td>\n",
       "      <td>-4.832745</td>\n",
       "      <td>0</td>\n",
       "      <td>M</td>\n",
       "      <td>44</td>\n",
       "      <td>16.0</td>\n",
       "    </tr>\n",
       "  </tbody>\n",
       "</table>\n",
       "<p>5 rows × 45 columns</p>\n",
       "</div>"
      ],
      "text/plain": [
       "   subject  trial  condition        ITI  rejected   Fz_N100   FCz_N100  \\\n",
       "0        1      1          1        NaN         0 -9.761338 -11.545219   \n",
       "1        1      2          1  2025.3906         0  8.717519  11.462619   \n",
       "2        1      3          1  2303.7109         0 -4.027286  -3.992038   \n",
       "3        1      4          1  2275.3906         0  0.394095  -0.663186   \n",
       "4        1      5          1  2464.8438         0 -9.368090 -12.029829   \n",
       "\n",
       "     Cz_N100  FC3_N100   FC4_N100  ...     FC3_B1     FC4_B1      C3_B1  \\\n",
       "0 -16.775214 -3.576595 -11.745167  ... -13.285282 -23.223037 -23.622596   \n",
       "1   7.979110  9.429738   6.912862  ...  13.442292  16.981404  11.953868   \n",
       "2  -1.104119 -3.319471   0.321314  ...   1.199502   0.929950   1.343815   \n",
       "3  -1.372871  3.974643  -1.613667  ...   5.336565  -0.448384   7.983687   \n",
       "4 -10.280100 -7.846471  -8.170986  ...   0.212776  -5.815893   2.517058   \n",
       "\n",
       "       C4_B1     CP3_B1     CP4_B1  group   gender   age   education  \n",
       "0 -19.071931 -19.529142 -26.677147      0        M    44        16.0  \n",
       "1  10.168470   5.831319   6.503993      0        M    44        16.0  \n",
       "2   3.131847   3.691148   0.338882      0        M    44        16.0  \n",
       "3   6.579145   8.474662   9.381523      0        M    44        16.0  \n",
       "4  -1.101036  -4.325141  -4.832745      0        M    44        16.0  \n",
       "\n",
       "[5 rows x 45 columns]"
      ]
     },
     "execution_count": 184,
     "metadata": {},
     "output_type": "execute_result"
    }
   ],
   "source": [
    "TrialData_df = mergedTrialData_df.merge(demographics_df, on='subject').rename(columns={' group': 'group'})\n",
    "TrialData_df.head()"
   ]
  },
  {
   "cell_type": "code",
   "execution_count": 185,
   "metadata": {},
   "outputs": [
    {
     "data": {
      "text/plain": [
       "(23201, 37)"
      ]
     },
     "execution_count": 185,
     "metadata": {},
     "output_type": "execute_result"
    }
   ],
   "source": [
    "TrialData_all_df = TrialData_df.drop(columns=['subject','trial','condition','ITI','rejected',' gender',' age',' education'])\n",
    "all_data = TrialData_all_df.to_numpy()\n",
    "all_data_NO_nan = (all_data[~np.isnan(all_data).any(axis=1)])\n",
    "np.shape(all_data_NO_nan)"
   ]
  },
  {
   "cell_type": "code",
   "execution_count": 186,
   "metadata": {},
   "outputs": [
    {
     "name": "stdout",
     "output_type": "stream",
     "text": [
      "(23201, 36)\n",
      "(23201, 1)\n"
     ]
    }
   ],
   "source": [
    "X = all_data_NO_nan[:,[0,1,2,3,4,5,6,7,8,9,10,11,12,13,14,15,16,17,18,19,20,21,22,23,24,25,26,27,28,29,30,31,32,\n",
    "                       33,34,35]]\n",
    "print(np.shape(X))\n",
    "y = all_data_NO_nan[:,[36]]\n",
    "print(np.shape(y))"
   ]
  },
  {
   "cell_type": "code",
   "execution_count": null,
   "metadata": {},
   "outputs": [],
   "source": [
    "from sklearn.model_selection import train_test_split\n",
    "from sklearn.neighbors import KNeighborsClassifier\n",
    "from sklearn.metrics import accuracy_score\n",
    "from sklearn.metrics import precision_score\n",
    "from sklearn.metrics import recall_score"
   ]
  },
  {
   "cell_type": "code",
   "execution_count": 187,
   "metadata": {},
   "outputs": [],
   "source": [
    "X_train, X_test, y_train, y_test = train_test_split(X, y, \n",
    "                                                    test_size=0.25,\n",
    "                                                    random_state = 614, \n",
    "                                                    shuffle=True,\n",
    "                                                    stratify=y)"
   ]
  },
  {
   "cell_type": "code",
   "execution_count": 188,
   "metadata": {},
   "outputs": [
    {
     "data": {
      "text/plain": [
       "RandomForestClassifier(random_state=614)"
      ]
     },
     "execution_count": 188,
     "metadata": {},
     "output_type": "execute_result"
    }
   ],
   "source": [
    "forest_all = RandomForestClassifier(random_state=614)\n",
    "\n",
    "forest_all.fit(X_train,y_train.ravel())"
   ]
  },
  {
   "cell_type": "code",
   "execution_count": 189,
   "metadata": {},
   "outputs": [
    {
     "name": "stdout",
     "output_type": "stream",
     "text": [
      "accuracy 0.6069643164971557\n",
      "precision 0.6242833742833743\n",
      "recall 0.8726388093875215\n"
     ]
    }
   ],
   "source": [
    "y_predict = forest_all.predict(X_test)\n",
    "print(\"accuracy\", accuracy_score(y_test,y_predict))\n",
    "print('precision', precision_score(y_test,y_predict))\n",
    "print('recall',recall_score(y_test,y_predict))"
   ]
  },
  {
   "cell_type": "code",
   "execution_count": 190,
   "metadata": {},
   "outputs": [
    {
     "data": {
      "text/plain": [
       "array([0.02879593, 0.02830073, 0.02765919, 0.02781548, 0.03221536,\n",
       "       0.02760993, 0.02883111, 0.02802946, 0.02769693, 0.02869763,\n",
       "       0.02750456, 0.02793048, 0.03005003, 0.03080442, 0.02919064,\n",
       "       0.02858174, 0.02795764, 0.02810314, 0.0250328 , 0.02486581,\n",
       "       0.02522973, 0.02550416, 0.02644106, 0.02656759, 0.02554092,\n",
       "       0.02694108, 0.02624502, 0.02744836, 0.02709713, 0.02703042,\n",
       "       0.02782509, 0.02922322, 0.02705276, 0.02811188, 0.02918326,\n",
       "       0.02888532])"
      ]
     },
     "execution_count": 190,
     "metadata": {},
     "output_type": "execute_result"
    }
   ],
   "source": [
    "forest_all.feature_importances_"
   ]
  },
  {
   "cell_type": "code",
   "execution_count": 191,
   "metadata": {},
   "outputs": [
    {
     "data": {
      "text/html": [
       "<div>\n",
       "<style scoped>\n",
       "    .dataframe tbody tr th:only-of-type {\n",
       "        vertical-align: middle;\n",
       "    }\n",
       "\n",
       "    .dataframe tbody tr th {\n",
       "        vertical-align: top;\n",
       "    }\n",
       "\n",
       "    .dataframe thead th {\n",
       "        text-align: right;\n",
       "    }\n",
       "</style>\n",
       "<table border=\"1\" class=\"dataframe\">\n",
       "  <thead>\n",
       "    <tr style=\"text-align: right;\">\n",
       "      <th></th>\n",
       "      <th>feature</th>\n",
       "      <th>importance_score</th>\n",
       "    </tr>\n",
       "  </thead>\n",
       "  <tbody>\n",
       "    <tr>\n",
       "      <th>4</th>\n",
       "      <td>FC4_N100</td>\n",
       "      <td>0.0322</td>\n",
       "    </tr>\n",
       "    <tr>\n",
       "      <th>13</th>\n",
       "      <td>FC4_P200</td>\n",
       "      <td>0.0308</td>\n",
       "    </tr>\n",
       "    <tr>\n",
       "      <th>12</th>\n",
       "      <td>FC3_P200</td>\n",
       "      <td>0.0301</td>\n",
       "    </tr>\n",
       "    <tr>\n",
       "      <th>34</th>\n",
       "      <td>CP3_B1</td>\n",
       "      <td>0.0292</td>\n",
       "    </tr>\n",
       "    <tr>\n",
       "      <th>31</th>\n",
       "      <td>FC4_B1</td>\n",
       "      <td>0.0292</td>\n",
       "    </tr>\n",
       "    <tr>\n",
       "      <th>14</th>\n",
       "      <td>C3_P200</td>\n",
       "      <td>0.0292</td>\n",
       "    </tr>\n",
       "    <tr>\n",
       "      <th>35</th>\n",
       "      <td>CP4_B1</td>\n",
       "      <td>0.0289</td>\n",
       "    </tr>\n",
       "    <tr>\n",
       "      <th>0</th>\n",
       "      <td>Fz_N100</td>\n",
       "      <td>0.0288</td>\n",
       "    </tr>\n",
       "    <tr>\n",
       "      <th>6</th>\n",
       "      <td>C4_N100</td>\n",
       "      <td>0.0288</td>\n",
       "    </tr>\n",
       "    <tr>\n",
       "      <th>9</th>\n",
       "      <td>Fz_P200</td>\n",
       "      <td>0.0287</td>\n",
       "    </tr>\n",
       "    <tr>\n",
       "      <th>15</th>\n",
       "      <td>C4_P200</td>\n",
       "      <td>0.0286</td>\n",
       "    </tr>\n",
       "    <tr>\n",
       "      <th>1</th>\n",
       "      <td>FCz_N100</td>\n",
       "      <td>0.0283</td>\n",
       "    </tr>\n",
       "    <tr>\n",
       "      <th>33</th>\n",
       "      <td>C4_B1</td>\n",
       "      <td>0.0281</td>\n",
       "    </tr>\n",
       "    <tr>\n",
       "      <th>17</th>\n",
       "      <td>CP4_P200</td>\n",
       "      <td>0.0281</td>\n",
       "    </tr>\n",
       "    <tr>\n",
       "      <th>7</th>\n",
       "      <td>CP3_N100</td>\n",
       "      <td>0.0280</td>\n",
       "    </tr>\n",
       "    <tr>\n",
       "      <th>16</th>\n",
       "      <td>CP3_P200</td>\n",
       "      <td>0.0280</td>\n",
       "    </tr>\n",
       "    <tr>\n",
       "      <th>11</th>\n",
       "      <td>Cz_P200</td>\n",
       "      <td>0.0279</td>\n",
       "    </tr>\n",
       "    <tr>\n",
       "      <th>30</th>\n",
       "      <td>FC3_B1</td>\n",
       "      <td>0.0278</td>\n",
       "    </tr>\n",
       "    <tr>\n",
       "      <th>3</th>\n",
       "      <td>FC3_N100</td>\n",
       "      <td>0.0278</td>\n",
       "    </tr>\n",
       "    <tr>\n",
       "      <th>8</th>\n",
       "      <td>CP4_N100</td>\n",
       "      <td>0.0277</td>\n",
       "    </tr>\n",
       "    <tr>\n",
       "      <th>2</th>\n",
       "      <td>Cz_N100</td>\n",
       "      <td>0.0277</td>\n",
       "    </tr>\n",
       "    <tr>\n",
       "      <th>5</th>\n",
       "      <td>C3_N100</td>\n",
       "      <td>0.0276</td>\n",
       "    </tr>\n",
       "    <tr>\n",
       "      <th>10</th>\n",
       "      <td>FCz_P200</td>\n",
       "      <td>0.0275</td>\n",
       "    </tr>\n",
       "    <tr>\n",
       "      <th>27</th>\n",
       "      <td>Fz_B1</td>\n",
       "      <td>0.0274</td>\n",
       "    </tr>\n",
       "    <tr>\n",
       "      <th>32</th>\n",
       "      <td>C3_B1</td>\n",
       "      <td>0.0271</td>\n",
       "    </tr>\n",
       "    <tr>\n",
       "      <th>28</th>\n",
       "      <td>FCz_B1</td>\n",
       "      <td>0.0271</td>\n",
       "    </tr>\n",
       "    <tr>\n",
       "      <th>29</th>\n",
       "      <td>Cz_B1</td>\n",
       "      <td>0.0270</td>\n",
       "    </tr>\n",
       "    <tr>\n",
       "      <th>25</th>\n",
       "      <td>CP3_B0</td>\n",
       "      <td>0.0269</td>\n",
       "    </tr>\n",
       "    <tr>\n",
       "      <th>23</th>\n",
       "      <td>C3_B0</td>\n",
       "      <td>0.0266</td>\n",
       "    </tr>\n",
       "    <tr>\n",
       "      <th>22</th>\n",
       "      <td>FC4_B0</td>\n",
       "      <td>0.0264</td>\n",
       "    </tr>\n",
       "    <tr>\n",
       "      <th>26</th>\n",
       "      <td>CP4_B0</td>\n",
       "      <td>0.0262</td>\n",
       "    </tr>\n",
       "    <tr>\n",
       "      <th>24</th>\n",
       "      <td>C4_B0</td>\n",
       "      <td>0.0255</td>\n",
       "    </tr>\n",
       "    <tr>\n",
       "      <th>21</th>\n",
       "      <td>FC3_B0</td>\n",
       "      <td>0.0255</td>\n",
       "    </tr>\n",
       "    <tr>\n",
       "      <th>20</th>\n",
       "      <td>Cz_B0</td>\n",
       "      <td>0.0252</td>\n",
       "    </tr>\n",
       "    <tr>\n",
       "      <th>18</th>\n",
       "      <td>Fz_B0</td>\n",
       "      <td>0.0250</td>\n",
       "    </tr>\n",
       "    <tr>\n",
       "      <th>19</th>\n",
       "      <td>FCz_B0</td>\n",
       "      <td>0.0249</td>\n",
       "    </tr>\n",
       "  </tbody>\n",
       "</table>\n",
       "</div>"
      ],
      "text/plain": [
       "     feature  importance_score\n",
       "4   FC4_N100            0.0322\n",
       "13  FC4_P200            0.0308\n",
       "12  FC3_P200            0.0301\n",
       "34    CP3_B1            0.0292\n",
       "31    FC4_B1            0.0292\n",
       "14   C3_P200            0.0292\n",
       "35    CP4_B1            0.0289\n",
       "0    Fz_N100            0.0288\n",
       "6    C4_N100            0.0288\n",
       "9    Fz_P200            0.0287\n",
       "15   C4_P200            0.0286\n",
       "1   FCz_N100            0.0283\n",
       "33     C4_B1            0.0281\n",
       "17  CP4_P200            0.0281\n",
       "7   CP3_N100            0.0280\n",
       "16  CP3_P200            0.0280\n",
       "11   Cz_P200            0.0279\n",
       "30    FC3_B1            0.0278\n",
       "3   FC3_N100            0.0278\n",
       "8   CP4_N100            0.0277\n",
       "2    Cz_N100            0.0277\n",
       "5    C3_N100            0.0276\n",
       "10  FCz_P200            0.0275\n",
       "27     Fz_B1            0.0274\n",
       "32     C3_B1            0.0271\n",
       "28    FCz_B1            0.0271\n",
       "29     Cz_B1            0.0270\n",
       "25    CP3_B0            0.0269\n",
       "23     C3_B0            0.0266\n",
       "22    FC4_B0            0.0264\n",
       "26    CP4_B0            0.0262\n",
       "24     C4_B0            0.0255\n",
       "21    FC3_B0            0.0255\n",
       "20     Cz_B0            0.0252\n",
       "18     Fz_B0            0.0250\n",
       "19    FCz_B0            0.0249"
      ]
     },
     "execution_count": 191,
     "metadata": {},
     "output_type": "execute_result"
    }
   ],
   "source": [
    "names = []\n",
    "scores = []\n",
    "X_train_copy = pd.DataFrame(data=X_train, columns = TrialData_all_df.columns.drop(['group']))\n",
    "\n",
    "for name, score in zip(X_train_copy.columns,forest_all.feature_importances_):\n",
    "    names.append(name)\n",
    "    scores.append(np.round(score,4))\n",
    "    \n",
    "score_df = pd.DataFrame({'feature':names,'importance_score':scores})\n",
    "\n",
    "score_df.sort_values('importance_score',ascending=False)"
   ]
  },
  {
   "cell_type": "code",
   "execution_count": 133,
   "metadata": {},
   "outputs": [
    {
     "data": {
      "text/plain": [
       "C3_N100          AxesSubplot(0.1,0.15;0.0754717x0.75)\n",
       "C4_N100     AxesSubplot(0.190566,0.15;0.0754717x0.75)\n",
       "CP3_N100    AxesSubplot(0.281132,0.15;0.0754717x0.75)\n",
       "CP4_N100    AxesSubplot(0.371698,0.15;0.0754717x0.75)\n",
       "Cz_N100     AxesSubplot(0.462264,0.15;0.0754717x0.75)\n",
       "FC3_N100     AxesSubplot(0.55283,0.15;0.0754717x0.75)\n",
       "FC4_N100    AxesSubplot(0.643396,0.15;0.0754717x0.75)\n",
       "FCz_N100    AxesSubplot(0.733962,0.15;0.0754717x0.75)\n",
       "Fz_N100     AxesSubplot(0.824528,0.15;0.0754717x0.75)\n",
       "dtype: object"
      ]
     },
     "execution_count": 133,
     "metadata": {},
     "output_type": "execute_result"
    },
    {
     "data": {
      "image/png": "[encoded data removed]",
      "text/plain": [
       "<Figure size 864x360 with 9 Axes>"
      ]
     },
     "metadata": {},
     "output_type": "display_data"
    }
   ],
   "source": [
    "N100 = TrialData_df[['Fz_N100','FCz_N100','Cz_N100','FC3_N100',\n",
    "                     'FC4_N100','C3_N100','C4_N100','CP3_N100',\n",
    "                     'CP4_N100','group']]\n",
    "\n",
    "fig, axes = plt.subplots(ncols=9, figsize=(12, 5), sharey=True)\n",
    "N100.query(\"group in [0, 1]\").boxplot(by='group', return_type='axes', ax=axes)"
   ]
  },
  {
   "cell_type": "code",
   "execution_count": 135,
   "metadata": {},
   "outputs": [
    {
     "data": {
      "text/plain": [
       "(23201, 10)"
      ]
     },
     "execution_count": 135,
     "metadata": {},
     "output_type": "execute_result"
    }
   ],
   "source": [
    "data_N100 = N100.to_numpy()\n",
    "data_N100_NO_nan = (data_N100[~np.isnan(data_N100).any(axis=1)])\n",
    "np.shape(data_NO_nan)"
   ]
  },
  {
   "cell_type": "code",
   "execution_count": 136,
   "metadata": {},
   "outputs": [
    {
     "name": "stdout",
     "output_type": "stream",
     "text": [
      "(23201, 9)\n",
      "(23201, 1)\n"
     ]
    }
   ],
   "source": [
    "X = data_N100_NO_nan[:,[0,1,2,3,4,5,6,7,8]]\n",
    "print(np.shape(X))\n",
    "y = data_N100_NO_nan[:,[9]]\n",
    "print(np.shape(y))"
   ]
  },
  {
   "cell_type": "code",
   "execution_count": 138,
   "metadata": {},
   "outputs": [],
   "source": [
    "X_train, X_test, y_train, y_test = train_test_split(X, y, \n",
    "                                                    test_size=0.25,\n",
    "                                                    random_state = 614, \n",
    "                                                    shuffle=True,\n",
    "                                                    stratify=y)"
   ]
  },
  {
   "cell_type": "code",
   "execution_count": 139,
   "metadata": {},
   "outputs": [],
   "source": [
    "knn = KNeighborsClassifier(n_neighbors = 3)"
   ]
  },
  {
   "cell_type": "code",
   "execution_count": 140,
   "metadata": {},
   "outputs": [
    {
     "data": {
      "text/plain": [
       "KNeighborsClassifier(n_neighbors=3)"
      ]
     },
     "execution_count": 140,
     "metadata": {},
     "output_type": "execute_result"
    }
   ],
   "source": [
    "knn.fit(X_train,y_train.ravel())"
   ]
  },
  {
   "cell_type": "code",
   "execution_count": 141,
   "metadata": {},
   "outputs": [
    {
     "name": "stdout",
     "output_type": "stream",
     "text": [
      "accuracy 0.5604206171349767\n",
      "precision 0.6288913162206444\n",
      "recall 0.659129937034917\n"
     ]
    }
   ],
   "source": [
    "y_predict = knn.predict(X_test)\n",
    "print(\"accuracy\", accuracy_score(y_test,y_predict))\n",
    "print('precision', precision_score(y_test,y_predict))\n",
    "print('recall',recall_score(y_test,y_predict))"
   ]
  },
  {
   "cell_type": "code",
   "execution_count": 83,
   "metadata": {},
   "outputs": [],
   "source": [
    "from sklearn.tree import DecisionTreeClassifier"
   ]
  },
  {
   "cell_type": "code",
   "execution_count": 142,
   "metadata": {},
   "outputs": [
    {
     "data": {
      "text/plain": [
       "DecisionTreeClassifier(max_depth=20, random_state=440)"
      ]
     },
     "execution_count": 142,
     "metadata": {},
     "output_type": "execute_result"
    }
   ],
   "source": [
    "tree = DecisionTreeClassifier(max_depth = 20, random_state = 440)\n",
    "tree.fit(X_train,y_train) "
   ]
  },
  {
   "cell_type": "code",
   "execution_count": 143,
   "metadata": {},
   "outputs": [
    {
     "name": "stdout",
     "output_type": "stream",
     "text": [
      "accuracy 0.5592139286329944\n",
      "precision 0.6175658720200753\n",
      "recall 0.704350314825415\n"
     ]
    }
   ],
   "source": [
    "y_predict = tree.predict(X_test)\n",
    "print(\"accuracy\", accuracy_score(y_test,y_predict))\n",
    "print('precision', precision_score(y_test,y_predict))\n",
    "print('recall',recall_score(y_test,y_predict))"
   ]
  },
  {
   "cell_type": "code",
   "execution_count": 89,
   "metadata": {},
   "outputs": [],
   "source": [
    "from sklearn.ensemble import RandomForestClassifier"
   ]
  },
  {
   "cell_type": "code",
   "execution_count": 144,
   "metadata": {},
   "outputs": [
    {
     "data": {
      "text/plain": [
       "RandomForestClassifier(max_depth=15, random_state=614)"
      ]
     },
     "execution_count": 144,
     "metadata": {},
     "output_type": "execute_result"
    }
   ],
   "source": [
    "forest = RandomForestClassifier(max_depth = 15, random_state=614)\n",
    "\n",
    "forest.fit(X_train,y_train.ravel())"
   ]
  },
  {
   "cell_type": "code",
   "execution_count": 145,
   "metadata": {},
   "outputs": [
    {
     "name": "stdout",
     "output_type": "stream",
     "text": [
      "accuracy 0.6078262368557146\n",
      "precision 0.6145892084978379\n",
      "recall 0.9356038923869491\n"
     ]
    }
   ],
   "source": [
    "y_predict = forest.predict(X_test)\n",
    "print(\"accuracy\", accuracy_score(y_test,y_predict))\n",
    "print('precision', precision_score(y_test,y_predict))\n",
    "print('recall',recall_score(y_test,y_predict))"
   ]
  },
  {
   "cell_type": "code",
   "execution_count": null,
   "metadata": {},
   "outputs": [],
   "source": [
    "(1) pressed a button to immediately generated a tone, \n",
    "(2) passively listened to the same tone, or \n",
    "(3) pressed a button without generating a tone "
   ]
  },
  {
   "cell_type": "code",
   "execution_count": 192,
   "metadata": {},
   "outputs": [],
   "source": [
    "Button_Tone_Press_df = TrialData_df[TrialData_df.condition == 1]"
   ]
  },
  {
   "cell_type": "code",
   "execution_count": 193,
   "metadata": {},
   "outputs": [
    {
     "data": {
      "text/plain": [
       "(7836, 37)"
      ]
     },
     "execution_count": 193,
     "metadata": {},
     "output_type": "execute_result"
    }
   ],
   "source": [
    "Button_Tone_Press_all_df = Button_Tone_Press_df.drop(columns=['subject','trial','condition',\n",
    "                                                      'ITI','rejected',' gender',' age',' education'])\n",
    "BTP_all_data = Button_Tone_Press_all_df.to_numpy()\n",
    "BTP_all_data_NO_nan = (BTP_all_data[~np.isnan(BTP_all_data).any(axis=1)])\n",
    "np.shape(BTP_all_data_NO_nan)"
   ]
  },
  {
   "cell_type": "code",
   "execution_count": 194,
   "metadata": {},
   "outputs": [
    {
     "name": "stdout",
     "output_type": "stream",
     "text": [
      "(7836, 36)\n",
      "(7836, 1)\n"
     ]
    }
   ],
   "source": [
    "X = BTP_all_data_NO_nan[:,[0,1,2,3,4,5,6,7,8,9,10,11,12,13,14,15,16,17,18,19,20,21,22,23,24,25,26,27,28,29,30,31,32,\n",
    "                       33,34,35]]\n",
    "print(np.shape(X))\n",
    "y = BTP_all_data_NO_nan[:,[36]]\n",
    "print(np.shape(y))"
   ]
  },
  {
   "cell_type": "code",
   "execution_count": 195,
   "metadata": {},
   "outputs": [],
   "source": [
    "X_train, X_test, y_train, y_test = train_test_split(X, y, \n",
    "                                                    test_size=0.25,\n",
    "                                                    random_state = 614, \n",
    "                                                    shuffle=True,\n",
    "                                                    stratify=y)"
   ]
  },
  {
   "cell_type": "code",
   "execution_count": 196,
   "metadata": {},
   "outputs": [
    {
     "data": {
      "text/plain": [
       "RandomForestClassifier(random_state=614)"
      ]
     },
     "execution_count": 196,
     "metadata": {},
     "output_type": "execute_result"
    }
   ],
   "source": [
    "forest_BTP_all = RandomForestClassifier(random_state=614)\n",
    "\n",
    "forest_BTP_all.fit(X_train,y_train.ravel())"
   ]
  },
  {
   "cell_type": "code",
   "execution_count": 197,
   "metadata": {},
   "outputs": [
    {
     "name": "stdout",
     "output_type": "stream",
     "text": [
      "accuracy 0.6094946401225115\n",
      "precision 0.6284658040665434\n",
      "recall 0.8629441624365483\n"
     ]
    }
   ],
   "source": [
    "y_predict = forest_BTP_all.predict(X_test)\n",
    "print(\"accuracy\", accuracy_score(y_test,y_predict))\n",
    "print('precision', precision_score(y_test,y_predict))\n",
    "print('recall',recall_score(y_test,y_predict))"
   ]
  },
  {
   "cell_type": "code",
   "execution_count": 198,
   "metadata": {},
   "outputs": [
    {
     "data": {
      "text/plain": [
       "array([0.02872896, 0.02750108, 0.02644221, 0.02687955, 0.03253504,\n",
       "       0.02624169, 0.03026188, 0.02702828, 0.02643054, 0.03153741,\n",
       "       0.0283625 , 0.02840376, 0.02930409, 0.03112087, 0.0292765 ,\n",
       "       0.02820804, 0.02901083, 0.02864965, 0.0259908 , 0.02498781,\n",
       "       0.02509227, 0.02542434, 0.02639308, 0.02540608, 0.02485206,\n",
       "       0.02707289, 0.02776663, 0.0277042 , 0.02859568, 0.02772797,\n",
       "       0.02772075, 0.0280012 , 0.02819861, 0.02709014, 0.02714253,\n",
       "       0.02891009])"
      ]
     },
     "execution_count": 198,
     "metadata": {},
     "output_type": "execute_result"
    }
   ],
   "source": [
    "forest_BTP_all.feature_importances_"
   ]
  },
  {
   "cell_type": "code",
   "execution_count": 199,
   "metadata": {},
   "outputs": [
    {
     "data": {
      "text/html": [
       "<div>\n",
       "<style scoped>\n",
       "    .dataframe tbody tr th:only-of-type {\n",
       "        vertical-align: middle;\n",
       "    }\n",
       "\n",
       "    .dataframe tbody tr th {\n",
       "        vertical-align: top;\n",
       "    }\n",
       "\n",
       "    .dataframe thead th {\n",
       "        text-align: right;\n",
       "    }\n",
       "</style>\n",
       "<table border=\"1\" class=\"dataframe\">\n",
       "  <thead>\n",
       "    <tr style=\"text-align: right;\">\n",
       "      <th></th>\n",
       "      <th>feature</th>\n",
       "      <th>importance_score</th>\n",
       "    </tr>\n",
       "  </thead>\n",
       "  <tbody>\n",
       "    <tr>\n",
       "      <th>4</th>\n",
       "      <td>FC4_N100</td>\n",
       "      <td>0.0325</td>\n",
       "    </tr>\n",
       "    <tr>\n",
       "      <th>9</th>\n",
       "      <td>Fz_P200</td>\n",
       "      <td>0.0315</td>\n",
       "    </tr>\n",
       "    <tr>\n",
       "      <th>13</th>\n",
       "      <td>FC4_P200</td>\n",
       "      <td>0.0311</td>\n",
       "    </tr>\n",
       "    <tr>\n",
       "      <th>6</th>\n",
       "      <td>C4_N100</td>\n",
       "      <td>0.0303</td>\n",
       "    </tr>\n",
       "    <tr>\n",
       "      <th>14</th>\n",
       "      <td>C3_P200</td>\n",
       "      <td>0.0293</td>\n",
       "    </tr>\n",
       "    <tr>\n",
       "      <th>12</th>\n",
       "      <td>FC3_P200</td>\n",
       "      <td>0.0293</td>\n",
       "    </tr>\n",
       "    <tr>\n",
       "      <th>16</th>\n",
       "      <td>CP3_P200</td>\n",
       "      <td>0.0290</td>\n",
       "    </tr>\n",
       "    <tr>\n",
       "      <th>35</th>\n",
       "      <td>CP4_B1</td>\n",
       "      <td>0.0289</td>\n",
       "    </tr>\n",
       "    <tr>\n",
       "      <th>0</th>\n",
       "      <td>Fz_N100</td>\n",
       "      <td>0.0287</td>\n",
       "    </tr>\n",
       "    <tr>\n",
       "      <th>28</th>\n",
       "      <td>FCz_B1</td>\n",
       "      <td>0.0286</td>\n",
       "    </tr>\n",
       "    <tr>\n",
       "      <th>17</th>\n",
       "      <td>CP4_P200</td>\n",
       "      <td>0.0286</td>\n",
       "    </tr>\n",
       "    <tr>\n",
       "      <th>11</th>\n",
       "      <td>Cz_P200</td>\n",
       "      <td>0.0284</td>\n",
       "    </tr>\n",
       "    <tr>\n",
       "      <th>10</th>\n",
       "      <td>FCz_P200</td>\n",
       "      <td>0.0284</td>\n",
       "    </tr>\n",
       "    <tr>\n",
       "      <th>15</th>\n",
       "      <td>C4_P200</td>\n",
       "      <td>0.0282</td>\n",
       "    </tr>\n",
       "    <tr>\n",
       "      <th>32</th>\n",
       "      <td>C3_B1</td>\n",
       "      <td>0.0282</td>\n",
       "    </tr>\n",
       "    <tr>\n",
       "      <th>31</th>\n",
       "      <td>FC4_B1</td>\n",
       "      <td>0.0280</td>\n",
       "    </tr>\n",
       "    <tr>\n",
       "      <th>26</th>\n",
       "      <td>CP4_B0</td>\n",
       "      <td>0.0278</td>\n",
       "    </tr>\n",
       "    <tr>\n",
       "      <th>29</th>\n",
       "      <td>Cz_B1</td>\n",
       "      <td>0.0277</td>\n",
       "    </tr>\n",
       "    <tr>\n",
       "      <th>30</th>\n",
       "      <td>FC3_B1</td>\n",
       "      <td>0.0277</td>\n",
       "    </tr>\n",
       "    <tr>\n",
       "      <th>27</th>\n",
       "      <td>Fz_B1</td>\n",
       "      <td>0.0277</td>\n",
       "    </tr>\n",
       "    <tr>\n",
       "      <th>1</th>\n",
       "      <td>FCz_N100</td>\n",
       "      <td>0.0275</td>\n",
       "    </tr>\n",
       "    <tr>\n",
       "      <th>33</th>\n",
       "      <td>C4_B1</td>\n",
       "      <td>0.0271</td>\n",
       "    </tr>\n",
       "    <tr>\n",
       "      <th>34</th>\n",
       "      <td>CP3_B1</td>\n",
       "      <td>0.0271</td>\n",
       "    </tr>\n",
       "    <tr>\n",
       "      <th>25</th>\n",
       "      <td>CP3_B0</td>\n",
       "      <td>0.0271</td>\n",
       "    </tr>\n",
       "    <tr>\n",
       "      <th>7</th>\n",
       "      <td>CP3_N100</td>\n",
       "      <td>0.0270</td>\n",
       "    </tr>\n",
       "    <tr>\n",
       "      <th>3</th>\n",
       "      <td>FC3_N100</td>\n",
       "      <td>0.0269</td>\n",
       "    </tr>\n",
       "    <tr>\n",
       "      <th>8</th>\n",
       "      <td>CP4_N100</td>\n",
       "      <td>0.0264</td>\n",
       "    </tr>\n",
       "    <tr>\n",
       "      <th>22</th>\n",
       "      <td>FC4_B0</td>\n",
       "      <td>0.0264</td>\n",
       "    </tr>\n",
       "    <tr>\n",
       "      <th>2</th>\n",
       "      <td>Cz_N100</td>\n",
       "      <td>0.0264</td>\n",
       "    </tr>\n",
       "    <tr>\n",
       "      <th>5</th>\n",
       "      <td>C3_N100</td>\n",
       "      <td>0.0262</td>\n",
       "    </tr>\n",
       "    <tr>\n",
       "      <th>18</th>\n",
       "      <td>Fz_B0</td>\n",
       "      <td>0.0260</td>\n",
       "    </tr>\n",
       "    <tr>\n",
       "      <th>23</th>\n",
       "      <td>C3_B0</td>\n",
       "      <td>0.0254</td>\n",
       "    </tr>\n",
       "    <tr>\n",
       "      <th>21</th>\n",
       "      <td>FC3_B0</td>\n",
       "      <td>0.0254</td>\n",
       "    </tr>\n",
       "    <tr>\n",
       "      <th>20</th>\n",
       "      <td>Cz_B0</td>\n",
       "      <td>0.0251</td>\n",
       "    </tr>\n",
       "    <tr>\n",
       "      <th>19</th>\n",
       "      <td>FCz_B0</td>\n",
       "      <td>0.0250</td>\n",
       "    </tr>\n",
       "    <tr>\n",
       "      <th>24</th>\n",
       "      <td>C4_B0</td>\n",
       "      <td>0.0249</td>\n",
       "    </tr>\n",
       "  </tbody>\n",
       "</table>\n",
       "</div>"
      ],
      "text/plain": [
       "     feature  importance_score\n",
       "4   FC4_N100            0.0325\n",
       "9    Fz_P200            0.0315\n",
       "13  FC4_P200            0.0311\n",
       "6    C4_N100            0.0303\n",
       "14   C3_P200            0.0293\n",
       "12  FC3_P200            0.0293\n",
       "16  CP3_P200            0.0290\n",
       "35    CP4_B1            0.0289\n",
       "0    Fz_N100            0.0287\n",
       "28    FCz_B1            0.0286\n",
       "17  CP4_P200            0.0286\n",
       "11   Cz_P200            0.0284\n",
       "10  FCz_P200            0.0284\n",
       "15   C4_P200            0.0282\n",
       "32     C3_B1            0.0282\n",
       "31    FC4_B1            0.0280\n",
       "26    CP4_B0            0.0278\n",
       "29     Cz_B1            0.0277\n",
       "30    FC3_B1            0.0277\n",
       "27     Fz_B1            0.0277\n",
       "1   FCz_N100            0.0275\n",
       "33     C4_B1            0.0271\n",
       "34    CP3_B1            0.0271\n",
       "25    CP3_B0            0.0271\n",
       "7   CP3_N100            0.0270\n",
       "3   FC3_N100            0.0269\n",
       "8   CP4_N100            0.0264\n",
       "22    FC4_B0            0.0264\n",
       "2    Cz_N100            0.0264\n",
       "5    C3_N100            0.0262\n",
       "18     Fz_B0            0.0260\n",
       "23     C3_B0            0.0254\n",
       "21    FC3_B0            0.0254\n",
       "20     Cz_B0            0.0251\n",
       "19    FCz_B0            0.0250\n",
       "24     C4_B0            0.0249"
      ]
     },
     "execution_count": 199,
     "metadata": {},
     "output_type": "execute_result"
    }
   ],
   "source": [
    "names = []\n",
    "scores = []\n",
    "X_train_copy = pd.DataFrame(data=X_train, columns = TrialData_all_df.columns.drop(['group']))\n",
    "\n",
    "for name, score in zip(X_train_copy.columns,forest_BTP_all.feature_importances_):\n",
    "    names.append(name)\n",
    "    scores.append(np.round(score,4))\n",
    "    \n",
    "score_df = pd.DataFrame({'feature':names,'importance_score':scores})\n",
    "\n",
    "score_df.sort_values('importance_score',ascending=False)"
   ]
  },
  {
   "cell_type": "code",
   "execution_count": 148,
   "metadata": {},
   "outputs": [
    {
     "name": "stderr",
     "output_type": "stream",
     "text": [
      "C:\\Users\\aleks\\anaconda3\\lib\\site-packages\\pandas\\plotting\\_matplotlib\\boxplot.py:380: UserWarning: When passing multiple axes, sharex and sharey are ignored. These settings must be specified when creating axes\n",
      "  ax = boxplot(\n"
     ]
    },
    {
     "data": {
      "text/plain": [
       "C3_N100          AxesSubplot(0.1,0.15;0.0754717x0.75)\n",
       "C4_N100     AxesSubplot(0.190566,0.15;0.0754717x0.75)\n",
       "CP3_N100    AxesSubplot(0.281132,0.15;0.0754717x0.75)\n",
       "CP4_N100    AxesSubplot(0.371698,0.15;0.0754717x0.75)\n",
       "Cz_N100     AxesSubplot(0.462264,0.15;0.0754717x0.75)\n",
       "FC3_N100     AxesSubplot(0.55283,0.15;0.0754717x0.75)\n",
       "FC4_N100    AxesSubplot(0.643396,0.15;0.0754717x0.75)\n",
       "FCz_N100    AxesSubplot(0.733962,0.15;0.0754717x0.75)\n",
       "Fz_N100     AxesSubplot(0.824528,0.15;0.0754717x0.75)\n",
       "dtype: object"
      ]
     },
     "execution_count": 148,
     "metadata": {},
     "output_type": "execute_result"
    },
    {
     "data": {
      "image/png": "[encoded data removed]",
      "text/plain": [
       "<Figure size 864x360 with 9 Axes>"
      ]
     },
     "metadata": {},
     "output_type": "display_data"
    }
   ],
   "source": [
    "N100_BTP = Button_Tone_Press_df[['Fz_N100','FCz_N100','Cz_N100','FC3_N100',\n",
    "                     'FC4_N100','C3_N100','C4_N100','CP3_N100',\n",
    "                     'CP4_N100','group']]\n",
    "\n",
    "fig, axes = plt.subplots(ncols=9, figsize=(12, 5), sharey=True)\n",
    "N100_BTP.query(\"group in [0, 1]\").boxplot(by='group', return_type='axes', ax=axes)"
   ]
  },
  {
   "cell_type": "code",
   "execution_count": null,
   "metadata": {},
   "outputs": [],
   "source": [
    "data_N100_BTP = N100_BTP.to_numpy()\n",
    "data_N100_BTP_NO_nan = (data_N100[~np.isnan(data_N100).any(axis=1)])\n",
    "np.shape(data_N100_BTP_NO_nan)"
   ]
  },
  {
   "cell_type": "code",
   "execution_count": null,
   "metadata": {},
   "outputs": [],
   "source": [
    "X = data_N100_BTP_NO_nan[:,[0,1,2,3,4,5,6,7,8]]\n",
    "print(np.shape(X))\n",
    "y = data_N100_BTP_NO_nan[:,[9]]\n",
    "print(np.shape(y))"
   ]
  },
  {
   "cell_type": "code",
   "execution_count": null,
   "metadata": {},
   "outputs": [],
   "source": [
    "X_train, X_test, y_train, y_test = train_test_split(X, y, \n",
    "                                                    test_size=0.25,\n",
    "                                                    random_state = 614, \n",
    "                                                    shuffle=True,\n",
    "                                                    stratify=y)"
   ]
  }
 ],
 "metadata": {
  "kernelspec": {
   "display_name": "Python 3",
   "language": "python",
   "name": "python3"
  },
  "language_info": {
   "codemirror_mode": {
    "name": "ipython",
    "version": 3
   },
   "file_extension": ".py",
   "mimetype": "text/x-python",
   "name": "python",
   "nbconvert_exporter": "python",
   "pygments_lexer": "ipython3",
   "version": "3.8.5"
  }
 },
 "nbformat": 4,
 "nbformat_minor": 4
}
